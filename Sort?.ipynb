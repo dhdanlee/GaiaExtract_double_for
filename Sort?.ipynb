{
 "cells": [
  {
   "cell_type": "code",
   "execution_count": 70,
   "metadata": {},
   "outputs": [],
   "source": [
    "#import or connect to function libraries\n",
    "import math as m\n",
    "import numpy as np\n",
    "import pandas as pd\n",
    "from astropy.io import fits\n",
    "import matplotlib.pyplot as plt\n",
    "import time\n",
    "%matplotlib inline"
   ]
  },
  {
   "cell_type": "code",
   "execution_count": 71,
   "metadata": {},
   "outputs": [],
   "source": [
    "initial = []\n",
    "cut = []\n",
    "dead = []\n",
    "lst = []\n",
    "with open('1sigmapar.txt', 'r') as file:\n",
    "    for i in file.readlines():\n",
    "        line = i.split(',')\n",
    "        first = int(line[0])\n",
    "        second = int(line[1].strip('\\n'))\n",
    "        initial.append(first)\n",
    "        initial.append(second)\n",
    "        #appends all the lines to a list so that's \n",
    "        #it's easier to loop through\n",
    "        lst.append(i.strip('\\n'))"
   ]
  },
  {
   "cell_type": "code",
   "execution_count": 72,
   "metadata": {},
   "outputs": [],
   "source": [
    "#find the ones that are repeated\n",
    "for i in initial:\n",
    "    if(i not in cut):\n",
    "        cut.append(i)\n",
    "    else:\n",
    "        #the ones that were already in the list and hence were repeated\n",
    "        dead.append(i)"
   ]
  },
  {
   "cell_type": "code",
   "execution_count": 73,
   "metadata": {},
   "outputs": [
    {
     "name": "stdout",
     "output_type": "stream",
     "text": [
      "15968\n",
      "15912\n",
      "56\n"
     ]
    }
   ],
   "source": [
    "print(len(initial))\n",
    "print(len(cut))\n",
    "print(len(dead))"
   ]
  },
  {
   "cell_type": "code",
   "execution_count": 77,
   "metadata": {},
   "outputs": [],
   "source": [
    "#find the lines that have the repeated ones\n",
    "#to find potential three and four star systems\n",
    "alldup = []\n",
    "with open('1simgadup.txt', 'w') as f:\n",
    "    for i in dead:\n",
    "        for k in lst:\n",
    "            line = k.split(',')\n",
    "            first = int(line[0])\n",
    "            second = int(line[1])\n",
    "            #don't add the same line twice\n",
    "            if((first == i or second == i) and k not in alldup):\n",
    "                alldup.append(k)\n",
    "                f.write(k + \"\\n\")"
   ]
  },
  {
   "cell_type": "code",
   "execution_count": 125,
   "metadata": {},
   "outputs": [],
   "source": [
    "#a nice formating so that we can see source id and the matching candidates\n",
    "dup_sorted1 = {}\n",
    "with open('1simgadup_sort1.txt', 'w') as f:\n",
    "    for i in dead:\n",
    "        f.write(str(i) + \": \")\n",
    "        dup_sorted1[i] = []\n",
    "        for k in alldup:\n",
    "            line = k.split(',')\n",
    "            first = int(line[0])\n",
    "            second = int(line[1])\n",
    "            if(i == first or i == second):\n",
    "                if(first==i):\n",
    "                    f.write(str(second) + \",\")\n",
    "                    dup_sorted1[i].append(second)\n",
    "                else:\n",
    "                    f.write(str(first) + \",\")\n",
    "                    dup_sorted1[i].append(first)\n",
    "        f.write(\"\\n\")"
   ]
  },
  {
   "cell_type": "code",
   "execution_count": 139,
   "metadata": {},
   "outputs": [],
   "source": [
    "#second formating to ensure that if a is in b, b is not in a\n",
    "#Example: a: b, c\n",
    "#b: a, c\n",
    "#we would want to remove b: a, c since it contains the same data as a:\n",
    "rm = []\n",
    "for i in dead:\n",
    "    for k in dead:\n",
    "        #essentially looping through the keys and holding the value\n",
    "        #we're searching for constant\n",
    "        #if we find the value(i), then we identify it to be removed\n",
    "        #because it contains a duplicate\n",
    "        #when a value is identified to be removed,\n",
    "        #we also don't want to search for it for as a value\n",
    "        \n",
    "        if(i in dup_sorted1[k] and k not in rm and i not in rm):\n",
    "            rm.append(k)"
   ]
  },
  {
   "cell_type": "code",
   "execution_count": 140,
   "metadata": {},
   "outputs": [],
   "source": [
    "#removing the duplicates\n",
    "dup_sorted2 = dict(dup_sorted1)\n",
    "for i in rm:\n",
    "    del dup_sorted2[i]"
   ]
  },
  {
   "cell_type": "code",
   "execution_count": 145,
   "metadata": {},
   "outputs": [],
   "source": [
    "with open('1simgadup_sort2.txt', 'w') as f:\n",
    "    for i in dup_sorted2:\n",
    "        f.write(str(i) + \": \")\n",
    "        for k in dup_sorted2[i]:\n",
    "            f.write(str(k) + \" \")\n",
    "        f.write(\"\\n\")"
   ]
  },
  {
   "cell_type": "code",
   "execution_count": 146,
   "metadata": {},
   "outputs": [
    {
     "name": "stdout",
     "output_type": "stream",
     "text": [
      "{6197: [20657, 34363], 16754: [18293, 38494], 176634: [422515, 431608], 219554: [210681, 224730], 221035: [226585, 227567], 225401: [229573, 232950], 243669: [287894, 328751], 254685: [247958, 259887], 258577: [247948, 269829], 264958: [347885, 443720], 277570: [274719, 277743], 306694: [306989, 309773], 322051: [316106, 519196], 327265: [88030, 518514], 342856: [369711, 370251], 351326: [345980, 355777], 357602: [358120, 362254], 359700: [344931, 371986], 364848: [371426, 376094], 430636: [438349, 438847], 432411: [434991, 436065], 492851: [274870, 466711], 539697: [539852, 545297], 558666: [560095, 561139], 620073: [619103, 619428], 657012: [655821, 657358]}\n"
     ]
    }
   ],
   "source": [
    "print(dup_sorted2)"
   ]
  },
  {
   "cell_type": "code",
   "execution_count": null,
   "metadata": {},
   "outputs": [],
   "source": []
  }
 ],
 "metadata": {
  "kernelspec": {
   "display_name": "Python 3",
   "language": "python",
   "name": "python3"
  },
  "language_info": {
   "codemirror_mode": {
    "name": "ipython",
    "version": 3
   },
   "file_extension": ".py",
   "mimetype": "text/x-python",
   "name": "python",
   "nbconvert_exporter": "python",
   "pygments_lexer": "ipython3",
   "version": "3.6.5"
  }
 },
 "nbformat": 4,
 "nbformat_minor": 2
}
